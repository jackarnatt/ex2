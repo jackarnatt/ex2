{
 "cells": [
  {
   "cell_type": "markdown",
   "metadata": {},
   "source": [
    "## Initialising the Grid \n",
    "This part of the code aims to solve poisson's equation in the form $\\nabla^{2}V=\\rho\\left ( x,y \\right )$\n",
    "\n",
    "Here we define a function that wil initialise a spatial grid, guess an initial solution for $V$ and define our source $\\rho\\left ( x,y \\right )$"
   ]
  },
  {
   "cell_type": "code",
   "execution_count": 23,
   "metadata": {},
   "outputs": [
    {
     "data": {
      "application/vnd.jupyter.widget-view+json": {
       "model_id": "faa4c78c74cb40459d7dee1beaa8beee",
       "version_major": 2,
       "version_minor": 0
      },
      "text/html": [
       "<p>Failed to display Jupyter Widget of type <code>interactive</code>.</p>\n",
       "<p>\n",
       "  If you're reading this message in the Jupyter Notebook or JupyterLab Notebook, it may mean\n",
       "  that the widgets JavaScript is still loading. If this message persists, it\n",
       "  likely means that the widgets JavaScript library is either not installed or\n",
       "  not enabled. See the <a href=\"https://ipywidgets.readthedocs.io/en/stable/user_install.html\">Jupyter\n",
       "  Widgets Documentation</a> for setup instructions.\n",
       "</p>\n",
       "<p>\n",
       "  If you're reading this message in another frontend (for example, a static\n",
       "  rendering on GitHub or <a href=\"https://nbviewer.jupyter.org/\">NBViewer</a>),\n",
       "  it may mean that your frontend doesn't currently support widgets.\n",
       "</p>\n"
      ],
      "text/plain": [
       "interactive(children=(IntSlider(value=20, continuous_update=False, description='Grid size', max=150, min=20), Dropdown(description='Initialise', options=('Zero', 'Random', 'x^2+y^2', 'sin(x)^2+sin(y)^2'), value='Zero'), Dropdown(description='Source', options=('Point Charge', 'Capacitor 1', 'Capacitor 2', 'Shell Capacitor'), value='Point Charge'), Output()), _dom_classes=('widget-interact',))"
      ]
     },
     "metadata": {},
     "output_type": "display_data"
    },
    {
     "data": {
      "text/plain": [
       "<function __main__.pltt>"
      ]
     },
     "execution_count": 23,
     "metadata": {},
     "output_type": "execute_result"
    }
   ],
   "source": [
    "import numpy as np\n",
    "import matplotlib.pyplot as plt\n",
    "import ipywidgets as widgets\n",
    "from ipywidgets import interact, interactive, fixed, IntSlider,BoundedIntText\n",
    "n=80\n",
    "nt=20\n",
    "\n",
    "def gridGen(n,initFunc,pFunc):\n",
    "    vals = np.linspace(-5,5,n+1)\n",
    "    x,y = np.meshgrid(vals,vals)\n",
    "    initFuncs = {'Zero':np.zeros((n,n)),\n",
    "             'Random':np.random.uniform(low=0, high=1, size=(n,n)),\n",
    "             'x^2+y^2':x**2+y**2,\n",
    "             'sin(x)^2':np.sin(x)**2,\n",
    "             'sin(x)^2+sin(y)^2':np.sin(x)**2+np.sin(y)**2}\n",
    "    grid = initFuncs[initFunc]\n",
    "    gridNorm = np.ones((n,n))*0.5\n",
    "    gridNorm[1:(n-1),1:(n-1)] = grid[1:(n-1),1:(n-1)]\n",
    "    gridNorm = gridNorm/np.max(gridNorm)\n",
    "    p = np.zeros((n,n))\n",
    "    if pFunc == 'Shell Capacitor':\n",
    "        for r in [int(n*.4),int(n*.35)]:\n",
    "            x1 = np.arange(-r+1,r+1)\n",
    "            y1 = ((r**2-x1**2)**.5).astype(int)\n",
    "            x1 = (x1-n/2).astype(int)\n",
    "            y1 = (y1-n/2).astype(int)\n",
    "            p[[x1,y1,-x1,-y1],[y1,x1,-y1,-x1]]=1\n",
    "    elif pFunc == 'Capacitor 1': \n",
    "        p[[int(n*.45),int(n*.55)],int(n*.1):int(n*.9)]=1\n",
    "    elif pFunc == 'Capacitor 2': \n",
    "        p[[int(n*.25),int(n*.75)],int(n*.25):int(n*.75)]=1\n",
    "    elif pFunc == 'Point Charge':\n",
    "        p[int(n*.5),int(n*.5)]=1\n",
    "                       \n",
    "    return [gridNorm,x,y,p]\n",
    "\n",
    "def pltt(n,Initialise,Source):\n",
    "    [gridNorm,x,y,p] = gridGen(n,Initialise,Source)\n",
    "    f, (ax1, ax2) = plt.subplots(1, 2,sharey=True,figsize=(8,4))\n",
    "    im = ax1.pcolor(x,y,gridNorm,cmap='YlOrRd')\n",
    "    im1 = ax2.pcolor(x,y,p,cmap='YlOrRd')\n",
    "    ax1.set_title('Initial Solution')\n",
    "\n",
    "    ax2.set_title('Source')\n",
    "    ax2.set_aspect('equal')\n",
    "    plt.show()\n",
    "    \n",
    "interact(pltt,\n",
    "         n=widgets.IntSlider(min=20,max=150,continuous_update=False,description = 'Grid size'),\n",
    "         Initialise=['Zero','Random','x^2+y^2','sin(x)^2+sin(y)^2'],\n",
    "         Source=['Point Charge','Capacitor 1','Capacitor 2','Shell Capacitor'])\n",
    "\n"
   ]
  },
  {
   "cell_type": "markdown",
   "metadata": {},
   "source": [
    "We now introduce an iterating function that can be called throughout the code to iterate from a desired initial state, until either a fixed endpoint, or until a convergence condition is met"
   ]
  },
  {
   "cell_type": "code",
   "execution_count": 25,
   "metadata": {},
   "outputs": [],
   "source": [
    "def iterate(timeStep,p,initialState,end=0,tol=2):\n",
    "    state = np.copy(initialState)\n",
    "    allStates= [initialState]\n",
    "    dif=1\n",
    "    t=0\n",
    "    while dif > tol or t < end:\n",
    "        state= timeStep(state,p)\n",
    "        allStates.append(state)\n",
    "        difM = abs(allStates[-1]/allStates[-2]-1)\n",
    "        dif = np.amax(difM)\n",
    "        t+=1\n",
    "\n",
    "        \n",
    "    return np.array(allStates)"
   ]
  },
  {
   "cell_type": "markdown",
   "metadata": {},
   "source": [
    "Two classical timestep functions are now defined. The first applies to the Jacobi method and the second to the Gauss Seidel."
   ]
  },
  {
   "cell_type": "code",
   "execution_count": 26,
   "metadata": {},
   "outputs": [],
   "source": [
    "def JacobiStep(state,p):\n",
    "    n = np.shape(state)[0]\n",
    "    newState = np.copy(state)\n",
    "    a1=state[1:n-1,2:]\n",
    "    a2=state[1:n-1,0:n-2]\n",
    "    a3=state[0:n-2,1:n-1]\n",
    "    a4=state[2:,1:n-1]\n",
    "    newState[1:n-1,1:n-1]=(a1+a2+a3+a4+p[1:n-1,1:n-1])/4\n",
    "    return newState\n",
    "\n",
    "def GaussSeidelStep(state,p):\n",
    "    n = np.shape(state)[0]\n",
    "    newState=np.copy(state)\n",
    "    for i in range(1,n-1):\n",
    "        for j in range(1,n-1):\n",
    "            newState[i,j] = (newState[i-1,j]+newState[i+1,j]+newState[i,j-1]+newState[i,j+1]+p[i,j])/4\n",
    "    return newState\n",
    "\n"
   ]
  },
  {
   "cell_type": "code",
   "execution_count": 39,
   "metadata": {
    "scrolled": false
   },
   "outputs": [
    {
     "data": {
      "application/vnd.jupyter.widget-view+json": {
       "model_id": "543d5165dcd54d5dbbf20ddf1b64ab14",
       "version_major": 2,
       "version_minor": 0
      },
      "text/html": [
       "<p>Failed to display Jupyter Widget of type <code>interactive</code>.</p>\n",
       "<p>\n",
       "  If you're reading this message in the Jupyter Notebook or JupyterLab Notebook, it may mean\n",
       "  that the widgets JavaScript is still loading. If this message persists, it\n",
       "  likely means that the widgets JavaScript library is either not installed or\n",
       "  not enabled. See the <a href=\"https://ipywidgets.readthedocs.io/en/stable/user_install.html\">Jupyter\n",
       "  Widgets Documentation</a> for setup instructions.\n",
       "</p>\n",
       "<p>\n",
       "  If you're reading this message in another frontend (for example, a static\n",
       "  rendering on GitHub or <a href=\"https://nbviewer.jupyter.org/\">NBViewer</a>),\n",
       "  it may mean that your frontend doesn't currently support widgets.\n",
       "</p>\n"
      ],
      "text/plain": [
       "interactive(children=(Dropdown(description='Tolerance', options=(0.1, 0.01, 0.001, 0.0001, 1e-05, 1e-06), value=0.1), Dropdown(description='Iteration', options=('Jacobi Method', 'Gauss Seidel Method'), value='Jacobi Method'), Dropdown(description='Source', options=('Point Charge', 'Capacitor 1', 'Capacitor 2', 'Shell Capacitor'), value='Point Charge'), Output()), _dom_classes=('widget-interact',))"
      ]
     },
     "metadata": {},
     "output_type": "display_data"
    },
    {
     "data": {
      "text/plain": [
       "<function __main__.f>"
      ]
     },
     "execution_count": 39,
     "metadata": {},
     "output_type": "execute_result"
    }
   ],
   "source": [
    "%matplotlib inline\n",
    "import ipywidgets as widgets\n",
    "from ipywidgets import interact, interactive, fixed, IntSlider,BoundedIntText\n",
    "\n",
    "def plot(states,t,contour=False):\n",
    "    fig = plt.figure(figsize=(6,5))\n",
    "    ax = fig.add_subplot(111)\n",
    "    im = ax.contourf(x[:-1,:-1],y[:-1,:-1],states[t,:,:],100, cmap='YlOrRd')\n",
    "    if contour == True:\n",
    "        im1 = ax.contour(im,levels=im.levels[::5],colors='black',linewidths=0.5)\n",
    "    ax.set_aspect('equal')\n",
    "    fig.colorbar(im)\n",
    "    plt.show()\n",
    "\n",
    "def f(Tolerance,Iteration,gridNorm,Source):\n",
    "    tol = Tolerance\n",
    "    timeSteps = {'Jacobi Method':JacobiStep,'Gauss Seidel Method':GaussSeidelStep}\n",
    "    timeStep = timeSteps[Iteration]\n",
    "    gridNorm,x,y,p = gridGen(60,'Random',Source)    \n",
    "    allStates = iterate(timeStep,p,gridNorm,tol=tol)\n",
    "    nt=np.shape(allStates)[0]\n",
    "    interact(plot,\n",
    "             states=fixed(allStates),\n",
    "             t=IntSlider(min=0,max=nt-1,continuous_update=False,description = 'Iteration #'),\n",
    "             contour=widgets.Checkbox(description = 'Show Contours'))\n",
    "\n",
    "interact(f,\n",
    "         Tolerance=[1e-1,1e-2,1e-3,1e-4,1e-5,1e-6],\n",
    "         Iteration=['Jacobi Method', 'Gauss Seidel Method'],\n",
    "         gridNorm=fixed(gridNorm),Source=['Point Charge','Capacitor 1','Capacitor 2','Shell Capacitor'])"
   ]
  },
  {
   "cell_type": "code",
   "execution_count": null,
   "metadata": {},
   "outputs": [],
   "source": []
  }
 ],
 "metadata": {
  "kernelspec": {
   "display_name": "Python 3",
   "language": "python",
   "name": "python3"
  },
  "language_info": {
   "codemirror_mode": {
    "name": "ipython",
    "version": 3
   },
   "file_extension": ".py",
   "mimetype": "text/x-python",
   "name": "python",
   "nbconvert_exporter": "python",
   "pygments_lexer": "ipython3",
   "version": "3.6.4"
  }
 },
 "nbformat": 4,
 "nbformat_minor": 2
}
